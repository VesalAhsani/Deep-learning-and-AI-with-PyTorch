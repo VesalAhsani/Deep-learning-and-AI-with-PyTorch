{
  "nbformat": 4,
  "nbformat_minor": 0,
  "metadata": {
    "colab": {
      "provenance": [],
      "authorship_tag": "ABX9TyPEGtkDZ3SXMBNKCVIJ+LUg",
      "include_colab_link": true
    },
    "kernelspec": {
      "name": "python3",
      "display_name": "Python 3"
    },
    "language_info": {
      "name": "python"
    },
    "accelerator": "GPU",
    "gpuClass": "standard"
  },
  "cells": [
    {
      "cell_type": "markdown",
      "metadata": {
        "id": "view-in-github",
        "colab_type": "text"
      },
      "source": [
        "<a href=\"https://colab.research.google.com/github/VesalAhsani/Deep-learning-and-AI-with-PyTorch/blob/main/Session_1.ipynb\" target=\"_parent\"><img src=\"https://colab.research.google.com/assets/colab-badge.svg\" alt=\"Open In Colab\"/></a>"
      ]
    },
    {
      "cell_type": "markdown",
      "source": [
        "# Linear Regression\n",
        "Linear Regression is a statistical method used for finding a linear relationship between a dependent variable (y) and one or more independent variables (x). The goal is to fit a line to the data points that minimizes the difference between the actual and predicted values of the dependent variable. This line can be used to make predictions about the dependent variable given new values of the independent variables."
      ],
      "metadata": {
        "id": "u4Oq6LhVdJ4H"
      }
    },
    {
      "cell_type": "code",
      "execution_count": null,
      "metadata": {
        "id": "jvfHg7WGbH38"
      },
      "outputs": [],
      "source": [
        "import torch\n",
        "import torch.nn as nn\n",
        "import numpy as np\n",
        "import matplotlib.pyplot as plt"
      ]
    },
    {
      "cell_type": "code",
      "source": [
        "N = 20\n",
        "X = np.random.random(N)*10 - 5\n",
        "Y = 0.5*X - 1 + np.random.randn(N)"
      ],
      "metadata": {
        "id": "GfKHCuInbVEO"
      },
      "execution_count": null,
      "outputs": []
    },
    {
      "cell_type": "code",
      "source": [
        "plt.scatter(X,Y);"
      ],
      "metadata": {
        "colab": {
          "base_uri": "https://localhost:8080/",
          "height": 265
        },
        "id": "Z31NtuqBcCr5",
        "outputId": "7d844a6f-7491-4031-cd05-d4199dc8f4a1"
      },
      "execution_count": null,
      "outputs": [
        {
          "output_type": "display_data",
          "data": {
            "text/plain": [
              "<Figure size 432x288 with 1 Axes>"
            ],
            "image/png": "[encoded data removed]"
          },
          "metadata": {
            "needs_background": "light"
          }
        }
      ]
    },
    {
      "cell_type": "code",
      "source": [
        "X = X.reshape(N,1)\n",
        "Y = Y.reshape(N,1)"
      ],
      "metadata": {
        "id": "CdRbDK8hcDjn"
      },
      "execution_count": null,
      "outputs": []
    },
    {
      "cell_type": "code",
      "source": [
        "inputs = torch.from_numpy(X.astype(np.float32))\n",
        "targets = torch.from_numpy(Y.astype(np.float32))"
      ],
      "metadata": {
        "id": "pEbkyHP5c_yn"
      },
      "execution_count": null,
      "outputs": []
    },
    {
      "cell_type": "code",
      "source": [
        "type(inputs)"
      ],
      "metadata": {
        "colab": {
          "base_uri": "https://localhost:8080/"
        },
        "id": "hoRSSNBEeeyx",
        "outputId": "be4e1b70-1f98-4153-a518-2281b9846eb4"
      },
      "execution_count": null,
      "outputs": [
        {
          "output_type": "execute_result",
          "data": {
            "text/plain": [
              "torch.Tensor"
            ]
          },
          "metadata": {},
          "execution_count": 6
        }
      ]
    },
    {
      "cell_type": "code",
      "source": [
        "model = nn.Linear(1,1)\n",
        "criterion = nn.MSELoss()\n",
        "optimizer = torch.optim.SGD(model.parameters(), lr=0.1)"
      ],
      "metadata": {
        "id": "UMqiu-8wfirF"
      },
      "execution_count": null,
      "outputs": []
    },
    {
      "cell_type": "code",
      "source": [
        "n_epochs = 30\n",
        "losses = []\n",
        "for it in range(n_epochs):\n",
        "  optimizer.zero_grad()\n",
        "\n",
        "  outputs = model(inputs)\n",
        "  loss = criterion(outputs, targets)\n",
        "  losses.append(loss.item())\n",
        "\n",
        "  loss.backward()\n",
        "  optimizer.step()\n",
        "\n",
        "  print(f\"Epoch: {it+1}/{n_epochs} loss: {loss.item()}\")"
      ],
      "metadata": {
        "colab": {
          "base_uri": "https://localhost:8080/"
        },
        "id": "3asZt41qiw_K",
        "outputId": "76154851-be73-4b8c-d493-d51429b8ec98"
      },
      "execution_count": null,
      "outputs": [
        {
          "output_type": "stream",
          "name": "stdout",
          "text": [
            "Epoch: 1/30 loss: 1.961112380027771\n",
            "Epoch: 2/30 loss: 1.8075147867202759\n",
            "Epoch: 3/30 loss: 1.7391071319580078\n",
            "Epoch: 4/30 loss: 1.7049528360366821\n",
            "Epoch: 5/30 loss: 1.6860641241073608\n",
            "Epoch: 6/30 loss: 1.6748030185699463\n",
            "Epoch: 7/30 loss: 1.6677623987197876\n",
            "Epoch: 8/30 loss: 1.6632388830184937\n",
            "Epoch: 9/30 loss: 1.6602895259857178\n",
            "Epoch: 10/30 loss: 1.6583516597747803\n",
            "Epoch: 11/30 loss: 1.6570736169815063\n",
            "Epoch: 12/30 loss: 1.6562286615371704\n",
            "Epoch: 13/30 loss: 1.6556698083877563\n",
            "Epoch: 14/30 loss: 1.6552995443344116\n",
            "Epoch: 15/30 loss: 1.6550546884536743\n",
            "Epoch: 16/30 loss: 1.6548923254013062\n",
            "Epoch: 17/30 loss: 1.6547847986221313\n",
            "Epoch: 18/30 loss: 1.6547133922576904\n",
            "Epoch: 19/30 loss: 1.6546663045883179\n",
            "Epoch: 20/30 loss: 1.6546351909637451\n",
            "Epoch: 21/30 loss: 1.6546144485473633\n",
            "Epoch: 22/30 loss: 1.654600739479065\n",
            "Epoch: 23/30 loss: 1.6545915603637695\n",
            "Epoch: 24/30 loss: 1.654585838317871\n",
            "Epoch: 25/30 loss: 1.6545816659927368\n",
            "Epoch: 26/30 loss: 1.6545789241790771\n",
            "Epoch: 27/30 loss: 1.6545770168304443\n",
            "Epoch: 28/30 loss: 1.654576063156128\n",
            "Epoch: 29/30 loss: 1.6545755863189697\n",
            "Epoch: 30/30 loss: 1.6545747518539429\n"
          ]
        }
      ]
    },
    {
      "cell_type": "code",
      "source": [
        "plt.plot(losses);"
      ],
      "metadata": {
        "colab": {
          "base_uri": "https://localhost:8080/",
          "height": 265
        },
        "id": "Yy5RLhBOkpvW",
        "outputId": "fde2cd5e-3657-4a54-8e08-ff77248b3644"
      },
      "execution_count": null,
      "outputs": [
        {
          "output_type": "display_data",
          "data": {
            "text/plain": [
              "<Figure size 432x288 with 1 Axes>"
            ],
            "image/png": "[encoded data removed]"
          },
          "metadata": {
            "needs_background": "light"
          }
        }
      ]
    },
    {
      "cell_type": "code",
      "source": [
        "with torch.no_grad():\n",
        "  predicted = model(inputs).numpy()"
      ],
      "metadata": {
        "id": "HpiMU5TIkyqs"
      },
      "execution_count": null,
      "outputs": []
    },
    {
      "cell_type": "code",
      "source": [
        "plt.scatter(X,Y, label = \"Original data\")\n",
        "plt.plot(X, predicted, label=\"Fitted line\")\n",
        "plt.legend();"
      ],
      "metadata": {
        "colab": {
          "base_uri": "https://localhost:8080/",
          "height": 265
        },
        "id": "B5fssmVRvjXl",
        "outputId": "2482b4cd-90a8-4ba5-88c4-6f9db20ef708"
      },
      "execution_count": null,
      "outputs": [
        {
          "output_type": "display_data",
          "data": {
            "text/plain": [
              "<Figure size 432x288 with 1 Axes>"
            ],
            "image/png": "[encoded data removed]"
          },
          "metadata": {
            "needs_background": "light"
          }
        }
      ]
    },
    {
      "cell_type": "markdown",
      "source": [
        "# Logistic Regression (Linear Classification)\n",
        "Logistic Regression is a type of regression analysis used when the dependent variable is binary (0 or 1, true or false, yes or no) in nature. Logistic Regression models the relationship between the dependent variable and the independent variables using a logistic function, also known as the sigmoid function, to predict the probability of the dependent variable being 0 or 1. The output of a logistic regression model is transformed into a binary prediction using a threshold, typically 0.5."
      ],
      "metadata": {
        "id": "Owtc9uZxdTgc"
      }
    },
    {
      "cell_type": "code",
      "source": [
        "import torch\n",
        "import torch.nn as nn\n",
        "import numpy as np\n",
        "import pandas as pd\n",
        "import matplotlib.pyplot as plt"
      ],
      "metadata": {
        "id": "wXLhG15JvsER"
      },
      "execution_count": null,
      "outputs": []
    },
    {
      "cell_type": "code",
      "source": [
        "from sklearn.datasets import load_breast_cancer"
      ],
      "metadata": {
        "id": "diqalYz8dqMO"
      },
      "execution_count": null,
      "outputs": []
    },
    {
      "cell_type": "code",
      "source": [
        "data = load_breast_cancer()"
      ],
      "metadata": {
        "id": "SN4_ObeWd2Jg"
      },
      "execution_count": null,
      "outputs": []
    },
    {
      "cell_type": "code",
      "source": [
        "data.keys()"
      ],
      "metadata": {
        "colab": {
          "base_uri": "https://localhost:8080/"
        },
        "id": "0IRVQoxkd5m0",
        "outputId": "277f9fd0-539d-45a6-bdbb-6c99bb8ec25a"
      },
      "execution_count": null,
      "outputs": [
        {
          "output_type": "execute_result",
          "data": {
            "text/plain": [
              "dict_keys(['data', 'target', 'frame', 'target_names', 'DESCR', 'feature_names', 'filename', 'data_module'])"
            ]
          },
          "metadata": {},
          "execution_count": 15
        }
      ]
    },
    {
      "cell_type": "code",
      "source": [
        "from sklearn.model_selection import train_test_split\n",
        "X_train, X_test, y_train, y_test = train_test_split(data.data, data.target, test_size=0.2)"
      ],
      "metadata": {
        "id": "vbRS0Pn2d77R"
      },
      "execution_count": null,
      "outputs": []
    },
    {
      "cell_type": "code",
      "source": [
        "N, D = X_train.shape"
      ],
      "metadata": {
        "id": "gKextnXDf3_V"
      },
      "execution_count": null,
      "outputs": []
    },
    {
      "cell_type": "code",
      "source": [
        "from sklearn.preprocessing import StandardScaler\n",
        "\n",
        "scaler = StandardScaler()\n",
        "X_train = scaler.fit_transform(X_train)\n",
        "X_test = scaler.transform(X_test)"
      ],
      "metadata": {
        "id": "KCbnl_6KgExB"
      },
      "execution_count": null,
      "outputs": []
    },
    {
      "cell_type": "code",
      "source": [
        "X_train = torch.from_numpy(X_train.astype(np.float32))\n",
        "X_test = torch.from_numpy(X_test.astype(np.float32))\n",
        "y_train = torch.from_numpy(y_train.astype(np.float32)).reshape(-1,1)\n",
        "y_test = torch.from_numpy(y_test.astype(np.float32)).reshape(-1,1)"
      ],
      "metadata": {
        "id": "yVFY8Gwfe3FW"
      },
      "execution_count": null,
      "outputs": []
    },
    {
      "cell_type": "code",
      "source": [
        "model = nn.Sequential(\n",
        "    nn.Linear(D,1),\n",
        "    nn.Sigmoid()\n",
        ")"
      ],
      "metadata": {
        "id": "V5_MGlX3fHzd"
      },
      "execution_count": null,
      "outputs": []
    },
    {
      "cell_type": "code",
      "source": [
        "criterion = nn.BCELoss()\n",
        "optimizer = torch.optim.Adam(model.parameters(), lr=0.001)"
      ],
      "metadata": {
        "id": "eRMgK-5-glPZ"
      },
      "execution_count": null,
      "outputs": []
    },
    {
      "cell_type": "code",
      "source": [
        "n_epochs = 1000\n",
        "train_losses = np.zeros(n_epochs)\n",
        "test_losses = np.zeros(n_epochs)\n",
        "\n",
        "for it in range(n_epochs):\n",
        "  optimizer.zero_grad()\n",
        "\n",
        "  outputs = model(X_train)\n",
        "  train_loss = criterion(outputs, y_train)\n",
        "\n",
        "  train_loss.backward()\n",
        "  optimizer.step()\n",
        "\n",
        "  test_outputs = model(X_test)\n",
        "  test_loss = criterion(test_outputs, y_test)\n",
        "\n",
        "  train_losses[it] = train_loss.item()\n",
        "  test_losses[it] = test_loss.item()\n",
        "\n",
        "  if (it+1) % 50 == 0:\n",
        "    print(f\"Epochs: {it+1}/{n_epochs}, train_loss: {train_loss.item():.4f}, test_loss: {test_loss.item():.4f}\")"
      ],
      "metadata": {
        "colab": {
          "base_uri": "https://localhost:8080/"
        },
        "id": "g7SlxJt0g9s9",
        "outputId": "358eb73f-2069-46a1-e380-cfd3572afe61"
      },
      "execution_count": null,
      "outputs": [
        {
          "output_type": "stream",
          "name": "stdout",
          "text": [
            "Epochs: 50/1000, train_loss: 0.3911, test_loss: 0.4119\n",
            "Epochs: 100/1000, train_loss: 0.2978, test_loss: 0.3267\n",
            "Epochs: 150/1000, train_loss: 0.2434, test_loss: 0.2784\n",
            "Epochs: 200/1000, train_loss: 0.2073, test_loss: 0.2473\n",
            "Epochs: 250/1000, train_loss: 0.1817, test_loss: 0.2258\n",
            "Epochs: 300/1000, train_loss: 0.1626, test_loss: 0.2102\n",
            "Epochs: 350/1000, train_loss: 0.1479, test_loss: 0.1984\n",
            "Epochs: 400/1000, train_loss: 0.1362, test_loss: 0.1893\n",
            "Epochs: 450/1000, train_loss: 0.1267, test_loss: 0.1821\n",
            "Epochs: 500/1000, train_loss: 0.1187, test_loss: 0.1762\n",
            "Epochs: 550/1000, train_loss: 0.1121, test_loss: 0.1714\n",
            "Epochs: 600/1000, train_loss: 0.1063, test_loss: 0.1673\n",
            "Epochs: 650/1000, train_loss: 0.1014, test_loss: 0.1638\n",
            "Epochs: 700/1000, train_loss: 0.0970, test_loss: 0.1609\n",
            "Epochs: 750/1000, train_loss: 0.0932, test_loss: 0.1584\n",
            "Epochs: 800/1000, train_loss: 0.0897, test_loss: 0.1562\n",
            "Epochs: 850/1000, train_loss: 0.0867, test_loss: 0.1542\n",
            "Epochs: 900/1000, train_loss: 0.0839, test_loss: 0.1526\n",
            "Epochs: 950/1000, train_loss: 0.0814, test_loss: 0.1511\n",
            "Epochs: 1000/1000, train_loss: 0.0791, test_loss: 0.1498\n"
          ]
        }
      ]
    },
    {
      "cell_type": "code",
      "source": [
        "plt.plot(train_losses, label=\"train_loss\")\n",
        "plt.plot(test_losses, label=\"test_loss\")\n",
        "plt.legend();"
      ],
      "metadata": {
        "colab": {
          "base_uri": "https://localhost:8080/",
          "height": 265
        },
        "id": "v6U_U3OkpAd6",
        "outputId": "d82ff089-7b37-4b02-d18e-ece2a81a3577"
      },
      "execution_count": null,
      "outputs": [
        {
          "output_type": "display_data",
          "data": {
            "text/plain": [
              "<Figure size 432x288 with 1 Axes>"
            ],
            "image/png": "[encoded data removed]"
          },
          "metadata": {
            "needs_background": "light"
          }
        }
      ]
    },
    {
      "cell_type": "code",
      "source": [
        "with torch.no_grad():\n",
        "  predict_train = model(X_train)\n",
        "  predict_train = np.round(predict_train.numpy())\n",
        "  acc_train = np.mean(predict_train == y_train.numpy())\n",
        "\n",
        "  predict_test = model(X_test)\n",
        "  predict_test = np.round(predict_test.numpy())\n",
        "  acc_test = np.mean(predict_test == y_test.numpy())\n",
        "\n",
        "  print(f\"train_accuracy: {acc_train:.4f}, test_accuracy: {acc_test:.4f}\")"
      ],
      "metadata": {
        "colab": {
          "base_uri": "https://localhost:8080/"
        },
        "id": "5GmOQZy7mxbX",
        "outputId": "dbb5f3c5-cecf-4cfb-b729-cd62be2c3e8d"
      },
      "execution_count": null,
      "outputs": [
        {
          "output_type": "stream",
          "name": "stdout",
          "text": [
            "train_accuracy: 0.9846, test_accuracy: 0.9649\n"
          ]
        }
      ]
    },
    {
      "cell_type": "code",
      "source": [
        "model.state_dict()"
      ],
      "metadata": {
        "colab": {
          "base_uri": "https://localhost:8080/"
        },
        "id": "I7QALEqFqXzA",
        "outputId": "64561721-56c3-49cf-d37d-f8c0b537a40e"
      },
      "execution_count": null,
      "outputs": [
        {
          "output_type": "execute_result",
          "data": {
            "text/plain": [
              "OrderedDict([('0.weight',\n",
              "              tensor([[-0.4507, -0.2897, -0.2298, -0.3273, -0.1650, -0.3254, -0.4942, -0.2928,\n",
              "                       -0.2691,  0.6269, -0.2186,  0.2198, -0.3360, -0.3862, -0.2968,  0.0557,\n",
              "                        0.1739, -0.1291,  0.1873,  0.4579, -0.4054, -0.6077, -0.4219, -0.5675,\n",
              "                       -0.2920, -0.1620, -0.3410, -0.5161, -0.4801, -0.2359]])),\n",
              "             ('0.bias', tensor([0.4218]))])"
            ]
          },
          "metadata": {},
          "execution_count": 25
        }
      ]
    },
    {
      "cell_type": "code",
      "source": [
        "torch.save(model.state_dict(), \"model-1.pt\")"
      ],
      "metadata": {
        "id": "efUchpMxqrpQ"
      },
      "execution_count": null,
      "outputs": []
    },
    {
      "cell_type": "code",
      "source": [
        "!ls"
      ],
      "metadata": {
        "colab": {
          "base_uri": "https://localhost:8080/"
        },
        "id": "poqTOUddq0-d",
        "outputId": "762644c7-65cb-4d3d-aa11-c6b04ca50bf5"
      },
      "execution_count": null,
      "outputs": [
        {
          "output_type": "stream",
          "name": "stdout",
          "text": [
            "model-1.pt  sample_data\n"
          ]
        }
      ]
    },
    {
      "cell_type": "code",
      "source": [
        "model2 = nn.Sequential(\n",
        "    nn.Linear(D,1),\n",
        "    nn.Sigmoid()\n",
        ")\n",
        "\n",
        "model2.load_state_dict(torch.load(\"model-1.pt\"))"
      ],
      "metadata": {
        "colab": {
          "base_uri": "https://localhost:8080/"
        },
        "id": "a2KIjn7mq2lt",
        "outputId": "18d0a886-9615-47fc-df5d-76be62f22036"
      },
      "execution_count": null,
      "outputs": [
        {
          "output_type": "execute_result",
          "data": {
            "text/plain": [
              "<All keys matched successfully>"
            ]
          },
          "metadata": {},
          "execution_count": 28
        }
      ]
    },
    {
      "cell_type": "code",
      "source": [
        "with torch.no_grad():\n",
        "  predict_train = model2(X_train)\n",
        "  predict_train = np.round(predict_train.numpy())\n",
        "  acc_train = np.mean(predict_train == y_train.numpy())\n",
        "\n",
        "  predict_test = model2(X_test)\n",
        "  predict_test = np.round(predict_test.numpy())\n",
        "  acc_test = np.mean(predict_test == y_test.numpy())\n",
        "\n",
        "  print(f\"train_accuracy: {acc_train:.4f}, test_accuracy: {acc_test:.4f}\")"
      ],
      "metadata": {
        "colab": {
          "base_uri": "https://localhost:8080/"
        },
        "id": "Z-JK6m8FrJrb",
        "outputId": "92a13dae-3123-42c2-cef1-b074bcfc1a51"
      },
      "execution_count": null,
      "outputs": [
        {
          "output_type": "stream",
          "name": "stdout",
          "text": [
            "train_accuracy: 0.9846, test_accuracy: 0.9649\n"
          ]
        }
      ]
    },
    {
      "cell_type": "code",
      "source": [
        "from google.colab import files\n",
        "files.download(\"model-1.pt\")"
      ],
      "metadata": {
        "colab": {
          "base_uri": "https://localhost:8080/",
          "height": 17
        },
        "id": "i1IGlt9crW8D",
        "outputId": "806817e1-3e93-4d35-cb66-a5cfacc76a2a"
      },
      "execution_count": null,
      "outputs": [
        {
          "output_type": "display_data",
          "data": {
            "text/plain": [
              "<IPython.core.display.Javascript object>"
            ],
            "application/javascript": [
              "\n",
              "    async function download(id, filename, size) {\n",
              "      if (!google.colab.kernel.accessAllowed) {\n",
              "        return;\n",
              "      }\n",
              "      const div = document.createElement('div');\n",
              "      const label = document.createElement('label');\n",
              "      label.textContent = `Downloading \"${filename}\": `;\n",
              "      div.appendChild(label);\n",
              "      const progress = document.createElement('progress');\n",
              "      progress.max = size;\n",
              "      div.appendChild(progress);\n",
              "      document.body.appendChild(div);\n",
              "\n",
              "      const buffers = [];\n",
              "      let downloaded = 0;\n",
              "\n",
              "      const channel = await google.colab.kernel.comms.open(id);\n",
              "      // Send a message to notify the kernel that we're ready.\n",
              "      channel.send({})\n",
              "\n",
              "      for await (const message of channel.messages) {\n",
              "        // Send a message to notify the kernel that we're ready.\n",
              "        channel.send({})\n",
              "        if (message.buffers) {\n",
              "          for (const buffer of message.buffers) {\n",
              "            buffers.push(buffer);\n",
              "            downloaded += buffer.byteLength;\n",
              "            progress.value = downloaded;\n",
              "          }\n",
              "        }\n",
              "      }\n",
              "      const blob = new Blob(buffers, {type: 'application/binary'});\n",
              "      const a = document.createElement('a');\n",
              "      a.href = window.URL.createObjectURL(blob);\n",
              "      a.download = filename;\n",
              "      div.appendChild(a);\n",
              "      a.click();\n",
              "      div.remove();\n",
              "    }\n",
              "  "
            ]
          },
          "metadata": {}
        },
        {
          "output_type": "display_data",
          "data": {
            "text/plain": [
              "<IPython.core.display.Javascript object>"
            ],
            "application/javascript": [
              "download(\"download_ee4a4192-abf2-4922-bd33-ab4d71349e24\", \"model-1.pt\", 1191)"
            ]
          },
          "metadata": {}
        }
      ]
    },
    {
      "cell_type": "markdown",
      "source": [
        "# Logistic Regression (Linear Classification with Logits)\n",
        "\n",
        "Everything is same as the previous model except 2 parts:\n",
        "1. Model (remove `nn.Sigmoid()`)\n",
        "2. Criterion (use `BCEwithLogitsLoss()` instead of `BCELoss()`)\n",
        "3. Prediction (use > 0 instead of rounding)"
      ],
      "metadata": {
        "id": "mbQC_CZHsnJx"
      }
    },
    {
      "cell_type": "markdown",
      "source": [
        "Logistic Regression with Logits refers to the use of the logit function, which is the inverse of the logistic (sigmoid) function, as the output of a logistic regression model instead of the predicted probability. The logit function provides a more direct and interpretable representation of the relationship between the dependent variable and the independent variables, which can be useful in certain situations. The output of a logistic regression with logits is transformed into a binary prediction using a threshold, typically 0.5, in the same manner as a traditional logistic regression model."
      ],
      "metadata": {
        "id": "E7BeMYp6wkGX"
      }
    },
    {
      "cell_type": "code",
      "source": [
        "import torch\n",
        "import torch.nn as nn\n",
        "import numpy as np\n",
        "import pandas as pd\n",
        "import matplotlib.pyplot as plt"
      ],
      "metadata": {
        "id": "yz_B1E2_tOBN"
      },
      "execution_count": null,
      "outputs": []
    },
    {
      "cell_type": "code",
      "source": [
        "from sklearn.datasets import load_breast_cancer"
      ],
      "metadata": {
        "id": "kK1CjB2otOBO"
      },
      "execution_count": null,
      "outputs": []
    },
    {
      "cell_type": "code",
      "source": [
        "data = load_breast_cancer()"
      ],
      "metadata": {
        "id": "x8kIKBiotCzD"
      },
      "execution_count": null,
      "outputs": []
    },
    {
      "cell_type": "code",
      "source": [
        "data.keys()"
      ],
      "metadata": {
        "colab": {
          "base_uri": "https://localhost:8080/"
        },
        "outputId": "d8b13a22-978d-402c-fc13-302c808c70b9",
        "id": "Xfp8DqJOtCzD"
      },
      "execution_count": null,
      "outputs": [
        {
          "output_type": "execute_result",
          "data": {
            "text/plain": [
              "dict_keys(['data', 'target', 'frame', 'target_names', 'DESCR', 'feature_names', 'filename', 'data_module'])"
            ]
          },
          "metadata": {},
          "execution_count": 34
        }
      ]
    },
    {
      "cell_type": "code",
      "source": [
        "from sklearn.model_selection import train_test_split\n",
        "X_train, X_test, y_train, y_test = train_test_split(data.data, data.target, test_size=0.2)"
      ],
      "metadata": {
        "id": "4kSZDaa7tCzE"
      },
      "execution_count": null,
      "outputs": []
    },
    {
      "cell_type": "code",
      "source": [
        "N, D = X_train.shape"
      ],
      "metadata": {
        "id": "X2Lp1dHRtCzE"
      },
      "execution_count": null,
      "outputs": []
    },
    {
      "cell_type": "code",
      "source": [
        "from sklearn.preprocessing import StandardScaler\n",
        "\n",
        "scaler = StandardScaler()\n",
        "X_train = scaler.fit_transform(X_train)\n",
        "X_test = scaler.transform(X_test)"
      ],
      "metadata": {
        "id": "naAzMV1QtCzE"
      },
      "execution_count": null,
      "outputs": []
    },
    {
      "cell_type": "code",
      "source": [
        "X_train = torch.from_numpy(X_train.astype(np.float32))\n",
        "X_test = torch.from_numpy(X_test.astype(np.float32))\n",
        "y_train = torch.from_numpy(y_train.astype(np.float32)).reshape(-1,1)\n",
        "y_test = torch.from_numpy(y_test.astype(np.float32)).reshape(-1,1)"
      ],
      "metadata": {
        "id": "CxOr95lAtCzE"
      },
      "execution_count": null,
      "outputs": []
    },
    {
      "cell_type": "code",
      "source": [
        "model = nn.Linear(D,1) # This changed"
      ],
      "metadata": {
        "id": "cuoXtohCtCzF"
      },
      "execution_count": null,
      "outputs": []
    },
    {
      "cell_type": "code",
      "source": [
        "criterion = nn.BCEWithLogitsLoss() # This changed\n",
        "optimizer = torch.optim.Adam(model.parameters(), lr=0.001)"
      ],
      "metadata": {
        "id": "msVoLr65tCzF"
      },
      "execution_count": null,
      "outputs": []
    },
    {
      "cell_type": "code",
      "source": [
        "n_epochs = 1000\n",
        "train_losses = np.zeros(n_epochs)\n",
        "test_losses = np.zeros(n_epochs)\n",
        "\n",
        "for it in range(n_epochs):\n",
        "  optimizer.zero_grad()\n",
        "\n",
        "  outputs = model(X_train)\n",
        "  train_loss = criterion(outputs, y_train)\n",
        "\n",
        "  train_loss.backward()\n",
        "  optimizer.step()\n",
        "\n",
        "  test_outputs = model(X_test)\n",
        "  test_loss = criterion(test_outputs, y_test)\n",
        "\n",
        "  train_losses[it] = train_loss.item()\n",
        "  test_losses[it] = test_loss.item()\n",
        "\n",
        "  if (it+1) % 50 == 0:\n",
        "    print(f\"Epochs: {it+1}/{n_epochs}, train_loss: {train_loss.item():.4f}, test_loss: {test_loss.item():.4f}\")"
      ],
      "metadata": {
        "colab": {
          "base_uri": "https://localhost:8080/"
        },
        "outputId": "bf38eace-ef67-4d6f-d76a-0cdc95442526",
        "id": "t5dPsfxVtCzF"
      },
      "execution_count": null,
      "outputs": [
        {
          "output_type": "stream",
          "name": "stdout",
          "text": [
            "Epochs: 50/1000, train_loss: 0.4800, test_loss: 0.4572\n",
            "Epochs: 100/1000, train_loss: 0.3497, test_loss: 0.3322\n",
            "Epochs: 150/1000, train_loss: 0.2794, test_loss: 0.2665\n",
            "Epochs: 200/1000, train_loss: 0.2355, test_loss: 0.2265\n",
            "Epochs: 250/1000, train_loss: 0.2054, test_loss: 0.1998\n",
            "Epochs: 300/1000, train_loss: 0.1835, test_loss: 0.1807\n",
            "Epochs: 350/1000, train_loss: 0.1668, test_loss: 0.1666\n",
            "Epochs: 400/1000, train_loss: 0.1537, test_loss: 0.1557\n",
            "Epochs: 450/1000, train_loss: 0.1430, test_loss: 0.1471\n",
            "Epochs: 500/1000, train_loss: 0.1342, test_loss: 0.1401\n",
            "Epochs: 550/1000, train_loss: 0.1268, test_loss: 0.1344\n",
            "Epochs: 600/1000, train_loss: 0.1205, test_loss: 0.1297\n",
            "Epochs: 650/1000, train_loss: 0.1149, test_loss: 0.1257\n",
            "Epochs: 700/1000, train_loss: 0.1101, test_loss: 0.1223\n",
            "Epochs: 750/1000, train_loss: 0.1058, test_loss: 0.1193\n",
            "Epochs: 800/1000, train_loss: 0.1019, test_loss: 0.1168\n",
            "Epochs: 850/1000, train_loss: 0.0985, test_loss: 0.1147\n",
            "Epochs: 900/1000, train_loss: 0.0954, test_loss: 0.1128\n",
            "Epochs: 950/1000, train_loss: 0.0925, test_loss: 0.1111\n",
            "Epochs: 1000/1000, train_loss: 0.0899, test_loss: 0.1097\n"
          ]
        }
      ]
    },
    {
      "cell_type": "code",
      "source": [
        "plt.plot(train_losses, label=\"train_loss\")\n",
        "plt.plot(test_losses, label=\"test_loss\")\n",
        "plt.legend();"
      ],
      "metadata": {
        "colab": {
          "base_uri": "https://localhost:8080/",
          "height": 265
        },
        "outputId": "58d6d2da-1e8b-4e9d-d08c-89e76a54a1b6",
        "id": "P-ey2pYKtCzG"
      },
      "execution_count": null,
      "outputs": [
        {
          "output_type": "display_data",
          "data": {
            "text/plain": [
              "<Figure size 432x288 with 1 Axes>"
            ],
            "image/png": "[encoded data removed]"
          },
          "metadata": {
            "needs_background": "light"
          }
        }
      ]
    },
    {
      "cell_type": "code",
      "source": [
        "with torch.no_grad():\n",
        "  predict_train = model(X_train)\n",
        "  predict_train = predict_train.numpy() > 0  # This changed\n",
        "  acc_train = np.mean(predict_train == y_train.numpy())\n",
        "\n",
        "  predict_test = model(X_test)\n",
        "  predict_test = predict_test.numpy() > 0 # This changed\n",
        "  acc_test = np.mean(predict_test == y_test.numpy())\n",
        "\n",
        "  print(f\"train_accuracy: {acc_train:.4f}, test_accuracy: {acc_test:.4f}\")"
      ],
      "metadata": {
        "colab": {
          "base_uri": "https://localhost:8080/"
        },
        "outputId": "c9306e86-9366-4149-88b6-e779898d8325",
        "id": "3RCI0pF2tCzG"
      },
      "execution_count": null,
      "outputs": [
        {
          "output_type": "stream",
          "name": "stdout",
          "text": [
            "train_accuracy: 0.9868, test_accuracy: 0.9737\n"
          ]
        }
      ]
    }
  ]
}